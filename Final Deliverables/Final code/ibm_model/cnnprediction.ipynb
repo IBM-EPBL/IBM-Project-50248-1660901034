{
 "cells": [
  {
   "cell_type": "code",
   "execution_count": 3,
   "id": "74ece63a",
   "metadata": {},
   "outputs": [],
   "source": [
    "from tensorflow.keras.models import load_model\n",
    "from keras.preprocessing import image\n",
    "from PIL import Image\n",
    "import numpy as np"
   ]
  },
  {
   "cell_type": "code",
   "execution_count": 4,
   "id": "b1d775c6",
   "metadata": {},
   "outputs": [],
   "source": [
    "model = load_model(\"mnistCNN.h5\")"
   ]
  },
  {
   "cell_type": "code",
   "execution_count": 5,
   "id": "447043e0",
   "metadata": {},
   "outputs": [],
   "source": [
    "img = Image.open(\"C:/Users/jeyay/OneDrive/Desktop/Final Deliverables/Final code/data/1.png\").convert(\"L\") # convert image to monochrome\n",
    "img = img.resize( (28,28) ) # resizing of input image"
   ]
  },
  {
   "cell_type": "code",
   "execution_count": 6,
   "id": "6eb82421",
   "metadata": {},
   "outputs": [
    {
     "data": {
      "image/png": "[encoded data removed]",
      "text/plain": [
       "<PIL.Image.Image image mode=L size=28x28 at 0x27DFEBD09A0>"
      ]
     },
     "execution_count": 6,
     "metadata": {},
     "output_type": "execute_result"
    }
   ],
   "source": [
    "img"
   ]
  },
  {
   "cell_type": "code",
   "execution_count": 7,
   "id": "1a2b04c8",
   "metadata": {},
   "outputs": [],
   "source": [
    "im2arr = np.array(img) #converting to image\n",
    "im2arr = im2arr.reshape(1, 28, 28, 1) #reshaping according to our requirement"
   ]
  },
  {
   "cell_type": "code",
   "execution_count": 8,
   "id": "25b2301d",
   "metadata": {},
   "outputs": [
    {
     "name": "stdout",
     "output_type": "stream",
     "text": [
      "1/1 [==============================] - 0s 370ms/step\n",
      "[[2.5381008e-09 4.9758580e-01 6.5878362e-07 3.7901809e-06 5.3061111e-05\n",
      "  2.5423660e-06 2.0804891e-10 9.8953992e-02 1.2672697e-03 4.0213284e-01]]\n"
     ]
    }
   ],
   "source": [
    "pred = model.predict(im2arr)\n",
    "print(pred)"
   ]
  },
  {
   "cell_type": "code",
   "execution_count": 9,
   "id": "50a5dbee",
   "metadata": {},
   "outputs": [
    {
     "name": "stdout",
     "output_type": "stream",
     "text": [
      "1\n"
     ]
    }
   ],
   "source": [
    "num = np.argmax(pred, axis=1) #printing our Labels\n",
    "print(num[0])"
   ]
  },
  {
   "cell_type": "code",
   "execution_count": null,
   "id": "df4dbce6",
   "metadata": {},
   "outputs": [],
   "source": []
  }
 ],
 "metadata": {
  "kernelspec": {
   "display_name": "Python 3 (ipykernel)",
   "language": "python",
   "name": "python3"
  },
  "language_info": {
   "codemirror_mode": {
    "name": "ipython",
    "version": 3
   },
   "file_extension": ".py",
   "mimetype": "text/x-python",
   "name": "python",
   "nbconvert_exporter": "python",
   "pygments_lexer": "ipython3",
   "version": "3.9.12"
  }
 },
 "nbformat": 4,
 "nbformat_minor": 5
}
